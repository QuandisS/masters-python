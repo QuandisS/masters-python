{
 "cells": [
  {
   "cell_type": "markdown",
   "id": "d9ee9944-5357-433e-a9d0-0b719006bc0d",
   "metadata": {},
   "source": [
    "# Solution"
   ]
  },
  {
   "cell_type": "code",
   "execution_count": 7,
   "id": "e2e86f1d-db3e-42c2-bd20-0589f27b674e",
   "metadata": {},
   "outputs": [],
   "source": [
    "class AccountException(Exception):\n",
    "    \"\"\"Base class for Account exceptions\"\"\"\n",
    "    pass\n",
    "\n",
    "class InsufficientBalanceException(AccountException):\n",
    "    def __init__(self, message=\"Not enough balance to proceed with operation\"):\n",
    "        self.message = message\n",
    "        super().__init__(self.message)\n",
    "\n",
    "class InvalidAmountException(AccountException):\n",
    "    def __init__(self, message=\"Amount is invalid\"):\n",
    "        self.message = message\n",
    "        super().__init__(self.message)\n",
    "\n",
    "class Account:\n",
    "    \"\"\"Class which represents a user bank account\"\"\"\n",
    "    def __init__(self, name: str, balance: float):\n",
    "        self.__name = name\n",
    "        self.__balance = balance\n",
    "\n",
    "    @property\n",
    "    def name(self) -> str:\n",
    "        return self.__name\n",
    "\n",
    "    @property\n",
    "    def balance(self) -> float:\n",
    "        return self.__balance\n",
    "\n",
    "    \n",
    "    def deposit(self, amount: float) -> None:\n",
    "        \"\"\"Method that adds an amount to account balance\"\"\"\n",
    "        if amount <= 0:\n",
    "            raise InvalidAmountException(\"Amount must be positive\")\n",
    "\n",
    "        self.__balance += amount\n",
    "\n",
    "    def withdraw(self, amount: float) -> None:\n",
    "        \"\"\"Method that withdraw an amount from account balance\"\"\"\n",
    "        if amount <= 0:\n",
    "            raise InvalidAmountException(\"Amount must be positive\")\n",
    "\n",
    "        if amount > self.__balance:\n",
    "            raise InsufficientBalanceException(\"Not enough funds on balance for the operation\")\n",
    "\n",
    "        self.__balance -= amount"
   ]
  },
  {
   "cell_type": "markdown",
   "id": "cabb0d8d-c1c9-4507-ba86-fb9b0c0b0312",
   "metadata": {},
   "source": [
    "# Testing"
   ]
  },
  {
   "cell_type": "code",
   "execution_count": 4,
   "id": "c329395e-d745-43c1-8287-b45f00dcbe47",
   "metadata": {},
   "outputs": [
    {
     "name": "stdout",
     "output_type": "stream",
     "text": [
      "1000\n"
     ]
    }
   ],
   "source": [
    "account = Account(\"Foo Bar\", 500)\n",
    "\n",
    "try: \n",
    "    account.deposit(500)\n",
    "    print(account.balance)\n",
    "except InvalidAmountException as e:\n",
    "    print(e)"
   ]
  },
  {
   "cell_type": "code",
   "execution_count": 8,
   "id": "86724723-909e-4a65-bbc6-055353374d08",
   "metadata": {},
   "outputs": [
    {
     "name": "stdout",
     "output_type": "stream",
     "text": [
      "Amount must be positive\n"
     ]
    }
   ],
   "source": [
    "account = Account(\"Foo Bar\", 500)\n",
    "\n",
    "try: \n",
    "    account.deposit(-500)\n",
    "    print(account.balance)\n",
    "except InvalidAmountException as e:\n",
    "    print(e)"
   ]
  },
  {
   "cell_type": "code",
   "execution_count": 9,
   "id": "ba1571e5-5c49-4783-8721-1918768ab00c",
   "metadata": {},
   "outputs": [
    {
     "name": "stdout",
     "output_type": "stream",
     "text": [
      "0\n"
     ]
    }
   ],
   "source": [
    "try:\n",
    "    account.withdraw(500)\n",
    "    print(account.balance)\n",
    "except (InsufficientBalanceException, InvalidAmountException) as e:\n",
    "    print(e)"
   ]
  },
  {
   "cell_type": "code",
   "execution_count": 10,
   "id": "4d83825f-313d-489f-bb34-24336a12d462",
   "metadata": {},
   "outputs": [
    {
     "name": "stdout",
     "output_type": "stream",
     "text": [
      "Not enough funds on balance for the operation\n"
     ]
    }
   ],
   "source": [
    "try:\n",
    "    account.withdraw(500)\n",
    "    print(account.balance)\n",
    "except (InsufficientBalanceException, InvalidAmountException) as e:\n",
    "    print(e)"
   ]
  },
  {
   "cell_type": "code",
   "execution_count": 11,
   "id": "bef1279b-31c1-493b-83d0-2551c6b02966",
   "metadata": {},
   "outputs": [
    {
     "name": "stdout",
     "output_type": "stream",
     "text": [
      "Amount must be positive\n"
     ]
    }
   ],
   "source": [
    "try:\n",
    "    account.withdraw(-500)\n",
    "    print(account.balance)\n",
    "except (InsufficientBalanceException, InvalidAmountException) as e:\n",
    "    print(e)"
   ]
  },
  {
   "cell_type": "code",
   "execution_count": 12,
   "id": "a6e39a59-519d-4a6a-a3e6-c49afb1093b1",
   "metadata": {},
   "outputs": [
    {
     "name": "stdout",
     "output_type": "stream",
     "text": [
      "Foo Bar\n"
     ]
    }
   ],
   "source": [
    "print(account.name)"
   ]
  }
 ],
 "metadata": {
  "kernelspec": {
   "display_name": "Python 3 (ipykernel)",
   "language": "python",
   "name": "python3"
  },
  "language_info": {
   "codemirror_mode": {
    "name": "ipython",
    "version": 3
   },
   "file_extension": ".py",
   "mimetype": "text/x-python",
   "name": "python",
   "nbconvert_exporter": "python",
   "pygments_lexer": "ipython3",
   "version": "3.10.12"
  }
 },
 "nbformat": 4,
 "nbformat_minor": 5
}
