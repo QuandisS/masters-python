{
 "cells": [
  {
   "cell_type": "code",
   "execution_count": 7,
   "id": "cb5363aa-c3db-4758-b0ae-ad01465cede2",
   "metadata": {},
   "outputs": [
    {
     "name": "stdout",
     "output_type": "stream",
     "text": [
      "+--------+-----+\n",
      "|    word|count|\n",
      "+--------+-----+\n",
      "|     and|    9|\n",
      "|     The|    9|\n",
      "|      of|    6|\n",
      "|     the|    5|\n",
      "|      in|    4|\n",
      "|    Love|    4|\n",
      "|     You|    4|\n",
      "|  Juliet|    3|\n",
      "|       I|    3|\n",
      "|     Day|    3|\n",
      "|       a|    3|\n",
      "|     Sex|    3|\n",
      "|    City|    3|\n",
      "| Married|    2|\n",
      "|      Me|    2|\n",
      "|     For|    2|\n",
      "|Twilight|    2|\n",
      "|     New|    2|\n",
      "|   Mamma|    2|\n",
      "|  Gnomeo|    2|\n",
      "+--------+-----+\n",
      "only showing top 20 rows\n",
      "\n"
     ]
    }
   ],
   "source": [
    "from pyspark.sql import SparkSession\n",
    "from pyspark.sql import functions as F\n",
    "from pyspark.sql.types import StructType, StructField, StringType, FloatType, IntegerType\n",
    "\n",
    "# Create Spark session\n",
    "spark = SparkSession.builder \\\n",
    "    .appName(\"Load CSV Example\") \\\n",
    "    .getOrCreate()\n",
    "\n",
    "# Define schema\n",
    "schema = StructType([\n",
    "    StructField(\"Film\", StringType(), True),\n",
    "    StructField(\"Genre\", StringType(), True),\n",
    "    StructField(\"Lead Studio\", StringType(), True),\n",
    "    StructField(\"Audience score %\", FloatType(), True),\n",
    "    StructField(\"Profitability\", FloatType(), True),\n",
    "    StructField(\"Rotten Tomatoes %\", FloatType(), True),\n",
    "    StructField(\"Worldwide Gross\", FloatType(), True),\n",
    "    StructField(\"Year\", IntegerType(), True)\n",
    "])\n",
    "\n",
    "# Load CSV file into DataFrame\n",
    "df = spark.read.csv(\"movies.csv\", header=True, schema=schema)\n",
    "\n",
    "# # Show DataFrame content\n",
    "# df.show()\n",
    "\n",
    "# # Print DataFrame schema\n",
    "# df.printSchema()\n",
    "\n",
    "# Function to count word frequencies in film names\n",
    "def count_words(df):\n",
    "    # Split the film names into words and explode into separate rows\n",
    "    words_df = df.select(F.explode(F.split(F.col(\"Film\"), \" \")).alias(\"word\"))\n",
    "\n",
    "    # Group by word and count occurrences\n",
    "    word_count_df = words_df.groupBy(\"word\").count()\n",
    "\n",
    "    # Order by count in descending order and get the most frequent word\n",
    "    most_frequent_word_df = word_count_df.orderBy(F.desc(\"count\"))\n",
    "\n",
    "    return most_frequent_word_df\n",
    "\n",
    "# Count word frequencies and show the results\n",
    "most_frequent_words = count_words(df)\n",
    "most_frequent_words.show()"
   ]
  }
 ],
 "metadata": {
  "kernelspec": {
   "display_name": "Python 3 (ipykernel)",
   "language": "python",
   "name": "python3"
  },
  "language_info": {
   "codemirror_mode": {
    "name": "ipython",
    "version": 3
   },
   "file_extension": ".py",
   "mimetype": "text/x-python",
   "name": "python",
   "nbconvert_exporter": "python",
   "pygments_lexer": "ipython3",
   "version": "3.12.3"
  }
 },
 "nbformat": 4,
 "nbformat_minor": 5
}
