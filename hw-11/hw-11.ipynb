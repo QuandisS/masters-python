{
 "cells": [
  {
   "cell_type": "code",
   "execution_count": null,
   "id": "d98a28e5-e1d0-4b0c-aa2c-ba3c5725ca43",
   "metadata": {},
   "outputs": [],
   "source": [
    "import random\n",
    "import json\n",
    "\n",
    "actions = ['click', 'purchase']\n",
    "users = [f'user_{i}' for i in range(1, 101)]  # 100 пользователей\n",
    "\n",
    "data = []\n",
    "for _ in range(1000):  # Генерируем 1000 действий\n",
    "    action = random.choice(actions)\n",
    "    user = random.choice(users)\n",
    "    data.append({'user': user, 'action': action})\n",
    "\n",
    "# Сохраняем данные в JSON файл для отправки в Kafka\n",
    "with open('data.json', 'w') as f:\n",
    "    json.dump(data, f)"
   ]
  },
  {
   "cell_type": "code",
   "execution_count": null,
   "id": "f55836c4-7299-4fea-a009-b09f005b1e27",
   "metadata": {},
   "outputs": [],
   "source": [
    "from kafka import KafkaProducer\n",
    "import json\n",
    "\n",
    "producer = KafkaProducer(bootstrap_servers='localhost:9092',\n",
    "                         value_serializer=lambda v: json.dumps(v).encode('utf-8'))\n",
    "\n",
    "with open('data.json') as f:\n",
    "    data = json.load(f)\n",
    "    for record in data:\n",
    "        producer.send('example_topic', value=record)\n",
    "\n",
    "producer.flush()"
   ]
  },
  {
   "cell_type": "code",
   "execution_count": null,
   "id": "cf0a7786-7d36-4424-82b9-c9fa168f7116",
   "metadata": {},
   "outputs": [],
   "source": [
    "from kafka import KafkaConsumer\n",
    "from collections import Counter\n",
    "\n",
    "consumer = KafkaConsumer('example_topic',\n",
    "                         bootstrap_servers='localhost:9092',\n",
    "                         auto_offset_reset='earliest',\n",
    "                         enable_auto_commit=True,\n",
    "                         group_id='my-group',\n",
    "                         value_deserializer=lambda x: json.loads(x.decode('utf-8')))\n",
    "\n",
    "user_actions = Counter()\n",
    "\n",
    "for message in consumer:\n",
    "    user_actions[message.value['user']] += 1\n",
    "\n",
    "# Выводим пользователей с наибольшим количеством действий\n",
    "most_active_users = user_actions.most_common(10)\n",
    "print(\"Пользователи с наибольшим количеством действий:\")\n",
    "for user, count in most_active_users:\n",
    "    print(f\"{user}: {count} действий\")\n"
   ]
  }
 ],
 "metadata": {
  "kernelspec": {
   "display_name": "Python 3 (ipykernel)",
   "language": "python",
   "name": "python3"
  },
  "language_info": {
   "codemirror_mode": {
    "name": "ipython",
    "version": 3
   },
   "file_extension": ".py",
   "mimetype": "text/x-python",
   "name": "python",
   "nbconvert_exporter": "python",
   "pygments_lexer": "ipython3",
   "version": "3.10.12"
  }
 },
 "nbformat": 4,
 "nbformat_minor": 5
}
