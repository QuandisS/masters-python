{
 "cells": [
  {
   "cell_type": "code",
   "execution_count": 1,
   "id": "b45035ac-4b95-4fea-a531-333a113196af",
   "metadata": {},
   "outputs": [
    {
     "name": "stdout",
     "output_type": "stream",
     "text": [
      "Iterations: 10000\n",
      "Duration of formula 1: 0.2248 seconds\n",
      "Duration of formula 2: 0.2248 seconds\n",
      "Duration of formula 3: 0.0000 seconds\n",
      "Total result of formula 3: 149985000\n",
      "Iterations: 100000\n",
      "Duration of formula 1: 3.2638 seconds\n",
      "Duration of formula 2: 3.2638 seconds\n",
      "Duration of formula 3: 0.0006 seconds\n",
      "Total result of formula 3: 14999850000\n"
     ]
    }
   ],
   "source": [
    "import concurrent.futures\n",
    "import time\n",
    "\n",
    "# Определяем функции для формул\n",
    "def formula_1(x):\n",
    "    return x**2 - x**2 + x * 4 - x * 5 + x + x\n",
    "\n",
    "def formula_2(x):\n",
    "    return x + x\n",
    "\n",
    "def compute_iterations(iterations):\n",
    "    results_1 = []\n",
    "    results_2 = []\n",
    "\n",
    "    # Измеряем время выполнения\n",
    "    start_time_1 = time.time()\n",
    "    \n",
    "    with concurrent.futures.ThreadPoolExecutor() as executor:\n",
    "        # Параллельное выполнение формул\n",
    "        futures_1 = [executor.submit(formula_1, x) for x in range(iterations)]\n",
    "        futures_2 = [executor.submit(formula_2, x) for x in range(iterations)]\n",
    "        \n",
    "        results_1 = [future.result() for future in concurrent.futures.as_completed(futures_1)]\n",
    "        results_2 = [future.result() for future in concurrent.futures.as_completed(futures_2)]\n",
    "    \n",
    "    end_time_1 = time.time()\n",
    "    \n",
    "    # Вычисление результата по формуле 3\n",
    "    start_time_3 = time.time()\n",
    "    result_3 = sum(results_1) + sum(results_2)\n",
    "    end_time_3 = time.time()\n",
    "\n",
    "    # Вывод результатов\n",
    "    print(f\"Iterations: {iterations}\")\n",
    "    print(f\"Duration of formula 1: {end_time_1 - start_time_1:.4f} seconds\")\n",
    "    print(f\"Duration of formula 2: {end_time_1 - start_time_1:.4f} seconds\")\n",
    "    print(f\"Duration of formula 3: {end_time_3 - start_time_3:.4f} seconds\")\n",
    "    print(f\"Total result of formula 3: {result_3}\")\n",
    "\n",
    "# Выполняем для 10,000 и 100,000 итераций\n",
    "compute_iterations(10000)\n",
    "compute_iterations(100000)"
   ]
  }
 ],
 "metadata": {
  "kernelspec": {
   "display_name": "Python 3 (ipykernel)",
   "language": "python",
   "name": "python3"
  },
  "language_info": {
   "codemirror_mode": {
    "name": "ipython",
    "version": 3
   },
   "file_extension": ".py",
   "mimetype": "text/x-python",
   "name": "python",
   "nbconvert_exporter": "python",
   "pygments_lexer": "ipython3",
   "version": "3.10.12"
  }
 },
 "nbformat": 4,
 "nbformat_minor": 5
}
