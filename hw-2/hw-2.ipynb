{
 "cells": [
  {
   "cell_type": "code",
   "execution_count": 4,
   "id": "23024dae-4383-4454-8cdc-a9641bd2afe9",
   "metadata": {},
   "outputs": [],
   "source": [
    "from datetime import datetime"
   ]
  },
  {
   "cell_type": "code",
   "execution_count": 6,
   "id": "da810489-65fc-4b1c-88ec-369f45551a58",
   "metadata": {},
   "outputs": [
    {
     "name": "stdout",
     "output_type": "stream",
     "text": [
      "2002-10-02 00:00:00\n"
     ]
    }
   ],
   "source": [
    "moscow_times_str = \"Wednesday, October 2, 2002\"\n",
    "date_object = datetime.strptime(moscow_times_str, \"%A, %B %d, %Y\")\n",
    "print(date_object)"
   ]
  },
  {
   "cell_type": "code",
   "execution_count": 8,
   "id": "79443442-6fac-4244-97c6-b9412c36fcfd",
   "metadata": {},
   "outputs": [
    {
     "name": "stdout",
     "output_type": "stream",
     "text": [
      "2013-10-11 00:00:00\n"
     ]
    }
   ],
   "source": [
    "guardian_str = \"Friday, 11.10.13\"\n",
    "date_object = datetime.strptime(guardian_str, \"%A, %d.%m.%y\")\n",
    "print(date_object)"
   ]
  },
  {
   "cell_type": "code",
   "execution_count": 9,
   "id": "968654b0-0e7b-4562-991f-e72949d1a1f7",
   "metadata": {},
   "outputs": [
    {
     "name": "stdout",
     "output_type": "stream",
     "text": [
      "1977-08-18 00:00:00\n"
     ]
    }
   ],
   "source": [
    "daily_str = \"Thursday, 18 August 1977\"\n",
    "date_object = datetime.strptime(daily_str, \"%A, %d %B %Y\")\n",
    "print(date_object)"
   ]
  }
 ],
 "metadata": {
  "kernelspec": {
   "display_name": "Python 3 (ipykernel)",
   "language": "python",
   "name": "python3"
  },
  "language_info": {
   "codemirror_mode": {
    "name": "ipython",
    "version": 3
   },
   "file_extension": ".py",
   "mimetype": "text/x-python",
   "name": "python",
   "nbconvert_exporter": "python",
   "pygments_lexer": "ipython3",
   "version": "3.10.12"
  }
 },
 "nbformat": 4,
 "nbformat_minor": 5
}
