{
 "cells": [
  {
   "cell_type": "code",
   "execution_count": 15,
   "id": "7a6c1d0c-3e15-4970-b248-c794b45babe8",
   "metadata": {},
   "outputs": [],
   "source": [
    "import re\n",
    "\n",
    "def validate(plate):\n",
    "    pattern = r'^[А,В,Е,К,М,Н,О,Р,С,Т,У,Х]{1}\\d{3}[А,В,Е,К,М,Н,О,Р,С,Т,У,Х]{2}\\d{2,3}$'\n",
    "\n",
    "    match = re.match(pattern, plate)\n",
    "\n",
    "    if match:\n",
    "        number = plate[:-2]\n",
    "        region = plate[-2:] if len(plate) == 8 else car_id[-3:]\n",
    "\n",
    "        return f'Номер {plate} валиден. Регион: {region}.'\n",
    "\n",
    "    else:\n",
    "        return 'Номер не валиден'"
   ]
  },
  {
   "cell_type": "code",
   "execution_count": 16,
   "id": "d24d6860-d19a-4af4-9661-16a8005f61d9",
   "metadata": {},
   "outputs": [
    {
     "name": "stdout",
     "output_type": "stream",
     "text": [
      "Номер А222ВС96 валиден. Регион: 96.\n"
     ]
    }
   ],
   "source": [
    "car_id1 = 'А222ВС96'\n",
    "print(validate(car_id1))"
   ]
  },
  {
   "cell_type": "code",
   "execution_count": 18,
   "id": "e71a0e9f-ecad-4852-9c59-1d07eff62f1c",
   "metadata": {},
   "outputs": [
    {
     "name": "stdout",
     "output_type": "stream",
     "text": [
      "Номер не валиден\n"
     ]
    }
   ],
   "source": [
    "car_id2 = 'АБ22ВВ193'\n",
    "print(validate(car_id2))"
   ]
  },
  {
   "cell_type": "code",
   "execution_count": 19,
   "id": "f942702c-ea2e-4fe1-ab71-e1fe094497d5",
   "metadata": {},
   "outputs": [
    {
     "name": "stdout",
     "output_type": "stream",
     "text": [
      "Номер не валиден\n"
     ]
    }
   ],
   "source": [
    "car_id2 = 'АБ22ГВ193'\n",
    "print(validate(car_id2))"
   ]
  }
 ],
 "metadata": {
  "kernelspec": {
   "display_name": "Python 3 (ipykernel)",
   "language": "python",
   "name": "python3"
  },
  "language_info": {
   "codemirror_mode": {
    "name": "ipython",
    "version": 3
   },
   "file_extension": ".py",
   "mimetype": "text/x-python",
   "name": "python",
   "nbconvert_exporter": "python",
   "pygments_lexer": "ipython3",
   "version": "3.10.12"
  }
 },
 "nbformat": 4,
 "nbformat_minor": 5
}
